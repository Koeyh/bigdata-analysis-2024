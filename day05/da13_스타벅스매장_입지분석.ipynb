{
 "cells": [
  {
   "cell_type": "code",
   "execution_count": 1,
   "metadata": {},
   "outputs": [],
   "source": [
    "## 빅데이터 실습\n",
    "\n",
    "### 스타벅스매장 입지 분석\n",
    "\n",
    "#### 데이터 수집\n",
    "\n",
    "##### 셀레니움 사용 자동화"
   ]
  },
  {
   "cell_type": "code",
   "execution_count": 34,
   "metadata": {},
   "outputs": [],
   "source": [
    "# 필요 라이브러리 사용등록\n",
    "from selenium import webdriver\n",
    "from selenium.webdriver.common.by import By\n",
    "from bs4 import BeautifulSoup\n",
    "import pandas as pd"
   ]
  },
  {
   "cell_type": "code",
   "execution_count": 38,
   "metadata": {},
   "outputs": [],
   "source": [
    "# 웹 드라이버 스타벅스 웹사이트 오픈\n",
    "driver = webdriver.Chrome()\n",
    "url = 'https://www.starbucks.co.kr/store/store_map.do?disp=locale'\n",
    "driver.get(url)"
   ]
  },
  {
   "cell_type": "code",
   "execution_count": 37,
   "metadata": {},
   "outputs": [
    {
     "ename": "ElementNotInteractableException",
     "evalue": "Message: element not interactable\n  (Session info: chrome=122.0.6261.112)\nStacktrace:\n\tGetHandleVerifier [0x00007FF60BC5AD32+56930]\n\t(No symbol) [0x00007FF60BBCF632]\n\t(No symbol) [0x00007FF60BA8419D]\n\t(No symbol) [0x00007FF60BACACA2]\n\t(No symbol) [0x00007FF60BABF798]\n\t(No symbol) [0x00007FF60BAEBC9A]\n\t(No symbol) [0x00007FF60BABF09A]\n\t(No symbol) [0x00007FF60BAEBEB0]\n\t(No symbol) [0x00007FF60BB081E2]\n\t(No symbol) [0x00007FF60BAEBA43]\n\t(No symbol) [0x00007FF60BABD438]\n\t(No symbol) [0x00007FF60BABE4D1]\n\tGetHandleVerifier [0x00007FF60BFD6ABD+3709933]\n\tGetHandleVerifier [0x00007FF60C02FFFD+4075821]\n\tGetHandleVerifier [0x00007FF60C02818F+4043455]\n\tGetHandleVerifier [0x00007FF60BCF9766+706710]\n\t(No symbol) [0x00007FF60BBDB90F]\n\t(No symbol) [0x00007FF60BBD6AF4]\n\t(No symbol) [0x00007FF60BBD6C4C]\n\t(No symbol) [0x00007FF60BBC6904]\n\tBaseThreadInitThunk [0x00007FFE73E07344+20]\n\tRtlUserThreadStart [0x00007FFE73F426B1+33]\n",
     "output_type": "error",
     "traceback": [
      "\u001b[1;31m---------------------------------------------------------------------------\u001b[0m",
      "\u001b[1;31mElementNotInteractableException\u001b[0m           Traceback (most recent call last)",
      "Cell \u001b[1;32mIn[37], line 3\u001b[0m\n\u001b[0;32m      1\u001b[0m \u001b[38;5;66;03m# 웹드라이버에서 소스 위치의 서울 링크 클릭\u001b[39;00m\n\u001b[0;32m      2\u001b[0m path \u001b[38;5;241m=\u001b[39m \u001b[38;5;124m'\u001b[39m\u001b[38;5;124mdiv.loca_step1_cont > ul > li:nth-child(1) > a\u001b[39m\u001b[38;5;124m'\u001b[39m\n\u001b[1;32m----> 3\u001b[0m \u001b[43mdriver\u001b[49m\u001b[38;5;241;43m.\u001b[39;49m\u001b[43mfind_element\u001b[49m\u001b[43m(\u001b[49m\u001b[43mBy\u001b[49m\u001b[38;5;241;43m.\u001b[39;49m\u001b[43mCSS_SELECTOR\u001b[49m\u001b[43m,\u001b[49m\u001b[43m \u001b[49m\u001b[43mpath\u001b[49m\u001b[43m)\u001b[49m\u001b[38;5;241;43m.\u001b[39;49m\u001b[43mclick\u001b[49m\u001b[43m(\u001b[49m\u001b[43m)\u001b[49m\n",
      "File \u001b[1;32mc:\\DEV\\Python312\\Lib\\site-packages\\selenium\\webdriver\\remote\\webelement.py:94\u001b[0m, in \u001b[0;36mWebElement.click\u001b[1;34m(self)\u001b[0m\n\u001b[0;32m     92\u001b[0m \u001b[38;5;28;01mdef\u001b[39;00m \u001b[38;5;21mclick\u001b[39m(\u001b[38;5;28mself\u001b[39m) \u001b[38;5;241m-\u001b[39m\u001b[38;5;241m>\u001b[39m \u001b[38;5;28;01mNone\u001b[39;00m:\n\u001b[0;32m     93\u001b[0m \u001b[38;5;250m    \u001b[39m\u001b[38;5;124;03m\"\"\"Clicks the element.\"\"\"\u001b[39;00m\n\u001b[1;32m---> 94\u001b[0m     \u001b[38;5;28;43mself\u001b[39;49m\u001b[38;5;241;43m.\u001b[39;49m\u001b[43m_execute\u001b[49m\u001b[43m(\u001b[49m\u001b[43mCommand\u001b[49m\u001b[38;5;241;43m.\u001b[39;49m\u001b[43mCLICK_ELEMENT\u001b[49m\u001b[43m)\u001b[49m\n",
      "File \u001b[1;32mc:\\DEV\\Python312\\Lib\\site-packages\\selenium\\webdriver\\remote\\webelement.py:395\u001b[0m, in \u001b[0;36mWebElement._execute\u001b[1;34m(self, command, params)\u001b[0m\n\u001b[0;32m    393\u001b[0m     params \u001b[38;5;241m=\u001b[39m {}\n\u001b[0;32m    394\u001b[0m params[\u001b[38;5;124m\"\u001b[39m\u001b[38;5;124mid\u001b[39m\u001b[38;5;124m\"\u001b[39m] \u001b[38;5;241m=\u001b[39m \u001b[38;5;28mself\u001b[39m\u001b[38;5;241m.\u001b[39m_id\n\u001b[1;32m--> 395\u001b[0m \u001b[38;5;28;01mreturn\u001b[39;00m \u001b[38;5;28;43mself\u001b[39;49m\u001b[38;5;241;43m.\u001b[39;49m\u001b[43m_parent\u001b[49m\u001b[38;5;241;43m.\u001b[39;49m\u001b[43mexecute\u001b[49m\u001b[43m(\u001b[49m\u001b[43mcommand\u001b[49m\u001b[43m,\u001b[49m\u001b[43m \u001b[49m\u001b[43mparams\u001b[49m\u001b[43m)\u001b[49m\n",
      "File \u001b[1;32mc:\\DEV\\Python312\\Lib\\site-packages\\selenium\\webdriver\\remote\\webdriver.py:347\u001b[0m, in \u001b[0;36mWebDriver.execute\u001b[1;34m(self, driver_command, params)\u001b[0m\n\u001b[0;32m    345\u001b[0m response \u001b[38;5;241m=\u001b[39m \u001b[38;5;28mself\u001b[39m\u001b[38;5;241m.\u001b[39mcommand_executor\u001b[38;5;241m.\u001b[39mexecute(driver_command, params)\n\u001b[0;32m    346\u001b[0m \u001b[38;5;28;01mif\u001b[39;00m response:\n\u001b[1;32m--> 347\u001b[0m     \u001b[38;5;28;43mself\u001b[39;49m\u001b[38;5;241;43m.\u001b[39;49m\u001b[43merror_handler\u001b[49m\u001b[38;5;241;43m.\u001b[39;49m\u001b[43mcheck_response\u001b[49m\u001b[43m(\u001b[49m\u001b[43mresponse\u001b[49m\u001b[43m)\u001b[49m\n\u001b[0;32m    348\u001b[0m     response[\u001b[38;5;124m\"\u001b[39m\u001b[38;5;124mvalue\u001b[39m\u001b[38;5;124m\"\u001b[39m] \u001b[38;5;241m=\u001b[39m \u001b[38;5;28mself\u001b[39m\u001b[38;5;241m.\u001b[39m_unwrap_value(response\u001b[38;5;241m.\u001b[39mget(\u001b[38;5;124m\"\u001b[39m\u001b[38;5;124mvalue\u001b[39m\u001b[38;5;124m\"\u001b[39m, \u001b[38;5;28;01mNone\u001b[39;00m))\n\u001b[0;32m    349\u001b[0m     \u001b[38;5;28;01mreturn\u001b[39;00m response\n",
      "File \u001b[1;32mc:\\DEV\\Python312\\Lib\\site-packages\\selenium\\webdriver\\remote\\errorhandler.py:229\u001b[0m, in \u001b[0;36mErrorHandler.check_response\u001b[1;34m(self, response)\u001b[0m\n\u001b[0;32m    227\u001b[0m         alert_text \u001b[38;5;241m=\u001b[39m value[\u001b[38;5;124m\"\u001b[39m\u001b[38;5;124malert\u001b[39m\u001b[38;5;124m\"\u001b[39m]\u001b[38;5;241m.\u001b[39mget(\u001b[38;5;124m\"\u001b[39m\u001b[38;5;124mtext\u001b[39m\u001b[38;5;124m\"\u001b[39m)\n\u001b[0;32m    228\u001b[0m     \u001b[38;5;28;01mraise\u001b[39;00m exception_class(message, screen, stacktrace, alert_text)  \u001b[38;5;66;03m# type: ignore[call-arg]  # mypy is not smart enough here\u001b[39;00m\n\u001b[1;32m--> 229\u001b[0m \u001b[38;5;28;01mraise\u001b[39;00m exception_class(message, screen, stacktrace)\n",
      "\u001b[1;31mElementNotInteractableException\u001b[0m: Message: element not interactable\n  (Session info: chrome=122.0.6261.112)\nStacktrace:\n\tGetHandleVerifier [0x00007FF60BC5AD32+56930]\n\t(No symbol) [0x00007FF60BBCF632]\n\t(No symbol) [0x00007FF60BA8419D]\n\t(No symbol) [0x00007FF60BACACA2]\n\t(No symbol) [0x00007FF60BABF798]\n\t(No symbol) [0x00007FF60BAEBC9A]\n\t(No symbol) [0x00007FF60BABF09A]\n\t(No symbol) [0x00007FF60BAEBEB0]\n\t(No symbol) [0x00007FF60BB081E2]\n\t(No symbol) [0x00007FF60BAEBA43]\n\t(No symbol) [0x00007FF60BABD438]\n\t(No symbol) [0x00007FF60BABE4D1]\n\tGetHandleVerifier [0x00007FF60BFD6ABD+3709933]\n\tGetHandleVerifier [0x00007FF60C02FFFD+4075821]\n\tGetHandleVerifier [0x00007FF60C02818F+4043455]\n\tGetHandleVerifier [0x00007FF60BCF9766+706710]\n\t(No symbol) [0x00007FF60BBDB90F]\n\t(No symbol) [0x00007FF60BBD6AF4]\n\t(No symbol) [0x00007FF60BBD6C4C]\n\t(No symbol) [0x00007FF60BBC6904]\n\tBaseThreadInitThunk [0x00007FFE73E07344+20]\n\tRtlUserThreadStart [0x00007FFE73F426B1+33]\n"
     ]
    }
   ],
   "source": [
    "# # 웹드라이버에서 소스 위치의 서울 링크 클릭\n",
    "# path = 'div.loca_step1_cont > ul > li:nth-child(1) > a'\n",
    "# driver.find_element(By.CSS_SELECTOR, path).click()"
   ]
  },
  {
   "cell_type": "code",
   "execution_count": 39,
   "metadata": {},
   "outputs": [],
   "source": [
    "# 웹드라이버에서 소스 위치 서울링크 클릭\n",
    "name = 'set_sido_cd_btn'\n",
    "driver.find_elements(By.CLASS_NAME, name)[0].click()"
   ]
  },
  {
   "cell_type": "code",
   "execution_count": 45,
   "metadata": {},
   "outputs": [],
   "source": [
    "# # 웹 드라이버에서 소스 위치 부산링크 클릭()\n",
    "# name = 'set_sido_cd_btn'\n",
    "# driver.find_elements(By.CLASS_NAME, name)[5].click()"
   ]
  },
  {
   "cell_type": "code",
   "execution_count": 41,
   "metadata": {},
   "outputs": [],
   "source": [
    "# 웹 드라이버에서 소스 위치 전체링크 클릭\n",
    "name = 'set_gugun_cd_btn'\n",
    "driver.find_elements(By.CLASS_NAME, name)[0].click()"
   ]
  },
  {
   "cell_type": "markdown",
   "metadata": {},
   "source": [
    "#### BeautifulSoup로 html 가져오기"
   ]
  },
  {
   "cell_type": "code",
   "execution_count": 42,
   "metadata": {},
   "outputs": [],
   "source": [
    "html = driver.page_source\n",
    "soup = BeautifulSoup(html, 'html.parser')"
   ]
  },
  {
   "cell_type": "code",
   "execution_count": 46,
   "metadata": {},
   "outputs": [
    {
     "data": {
      "text/plain": [
       "613"
      ]
     },
     "execution_count": 46,
     "metadata": {},
     "output_type": "execute_result"
    }
   ],
   "source": [
    "# 검색결과 전체 받아옴\n",
    "sbSeoulList = soup.select('li.quickResultLstCon')\n",
    "len(sbSeoulList)"
   ]
  },
  {
   "cell_type": "markdown",
   "metadata": {},
   "source": [
    "##### 서울 매장 리스트 DataFrame"
   ]
  },
  {
   "cell_type": "code",
   "execution_count": 78,
   "metadata": {},
   "outputs": [],
   "source": [
    "sbSeoulStores = []\n",
    "for item in sbSeoulList: # 613번(데이터 수 만큼) 반복\n",
    "    name = item.select('strong')[0].text.strip()\n",
    "    lat = item['data-lat'].strip()\n",
    "    lng = item['data-long'].strip()\n",
    "    storeType = item.select('i')[0]['class'][0].split('_')[1] # 지점 종류(일반, 리저브, DT, WT)\n",
    "    address = str(item.select('p.result_details')[0]).split('<br/>')[0].split('>')[1] # 주소 / 하나씩 하면서 정리 해 나갈것\n",
    "    tel = str(item.select('p.result_details')[0]).split('<br/>')[1].split('<')[0] # 전화번호 (대표번호로 변경되어 별 의미없음)\n",
    "\n",
    "    sbSeoulStores.append([name, lat, lng, storeType, address, tel])\n",
    "    "
   ]
  },
  {
   "cell_type": "code",
   "execution_count": 80,
   "metadata": {},
   "outputs": [
    {
     "data": {
      "text/plain": [
       "613"
      ]
     },
     "execution_count": 80,
     "metadata": {},
     "output_type": "execute_result"
    }
   ],
   "source": [
    "len(sbSeoulStores)"
   ]
  },
  {
   "cell_type": "code",
   "execution_count": 81,
   "metadata": {},
   "outputs": [],
   "source": [
    "# DF(DataFrame)로 변경\n",
    "dfStarBucksSeoul = pd.DataFrame(sbSeoulStores, columns=['매장명','위도','경도','매장타입','주소','전화번호'])"
   ]
  },
  {
   "cell_type": "code",
   "execution_count": 82,
   "metadata": {},
   "outputs": [
    {
     "data": {
      "text/html": [
       "<div>\n",
       "<style scoped>\n",
       "    .dataframe tbody tr th:only-of-type {\n",
       "        vertical-align: middle;\n",
       "    }\n",
       "\n",
       "    .dataframe tbody tr th {\n",
       "        vertical-align: top;\n",
       "    }\n",
       "\n",
       "    .dataframe thead th {\n",
       "        text-align: right;\n",
       "    }\n",
       "</style>\n",
       "<table border=\"1\" class=\"dataframe\">\n",
       "  <thead>\n",
       "    <tr style=\"text-align: right;\">\n",
       "      <th></th>\n",
       "      <th>매장명</th>\n",
       "      <th>위도</th>\n",
       "      <th>경도</th>\n",
       "      <th>매장타입</th>\n",
       "      <th>주소</th>\n",
       "      <th>전화번호</th>\n",
       "    </tr>\n",
       "  </thead>\n",
       "  <tbody>\n",
       "    <tr>\n",
       "      <th>0</th>\n",
       "      <td>역삼아레나빌딩</td>\n",
       "      <td>37.501087</td>\n",
       "      <td>127.043069</td>\n",
       "      <td>general</td>\n",
       "      <td>서울특별시 강남구 언주로 425 (역삼동)</td>\n",
       "      <td>1522-3232</td>\n",
       "    </tr>\n",
       "    <tr>\n",
       "      <th>1</th>\n",
       "      <td>논현역사거리</td>\n",
       "      <td>37.510178</td>\n",
       "      <td>127.022223</td>\n",
       "      <td>general</td>\n",
       "      <td>서울특별시 강남구 강남대로 538 (논현동)</td>\n",
       "      <td>1522-3232</td>\n",
       "    </tr>\n",
       "    <tr>\n",
       "      <th>2</th>\n",
       "      <td>신사역성일빌딩</td>\n",
       "      <td>37.5139309</td>\n",
       "      <td>127.0206057</td>\n",
       "      <td>general</td>\n",
       "      <td>서울특별시 강남구 강남대로 584 (논현동)</td>\n",
       "      <td>1522-3232</td>\n",
       "    </tr>\n",
       "    <tr>\n",
       "      <th>3</th>\n",
       "      <td>국기원사거리</td>\n",
       "      <td>37.499517</td>\n",
       "      <td>127.031495</td>\n",
       "      <td>general</td>\n",
       "      <td>서울특별시 강남구 테헤란로 125 (역삼동)</td>\n",
       "      <td>1522-3232</td>\n",
       "    </tr>\n",
       "    <tr>\n",
       "      <th>4</th>\n",
       "      <td>대치재경빌딩</td>\n",
       "      <td>37.494668</td>\n",
       "      <td>127.062583</td>\n",
       "      <td>general</td>\n",
       "      <td>서울특별시 강남구 남부순환로 2947 (대치동)</td>\n",
       "      <td>1522-3232</td>\n",
       "    </tr>\n",
       "    <tr>\n",
       "      <th>...</th>\n",
       "      <td>...</td>\n",
       "      <td>...</td>\n",
       "      <td>...</td>\n",
       "      <td>...</td>\n",
       "      <td>...</td>\n",
       "      <td>...</td>\n",
       "    </tr>\n",
       "    <tr>\n",
       "      <th>608</th>\n",
       "      <td>사가정역</td>\n",
       "      <td>37.579594</td>\n",
       "      <td>127.087966</td>\n",
       "      <td>general</td>\n",
       "      <td>서울특별시 중랑구 면목로 310</td>\n",
       "      <td>1522-3232</td>\n",
       "    </tr>\n",
       "    <tr>\n",
       "      <th>609</th>\n",
       "      <td>상봉역</td>\n",
       "      <td>37.59689</td>\n",
       "      <td>127.08647</td>\n",
       "      <td>general</td>\n",
       "      <td>서울특별시 중랑구 망우로 307 (상봉동)</td>\n",
       "      <td>1522-3232</td>\n",
       "    </tr>\n",
       "    <tr>\n",
       "      <th>610</th>\n",
       "      <td>묵동</td>\n",
       "      <td>37.615368</td>\n",
       "      <td>127.076633</td>\n",
       "      <td>general</td>\n",
       "      <td>서울특별시 중랑구 동일로 952 (묵동, 로프트원 태릉입구역) 1층</td>\n",
       "      <td>1522-3232</td>\n",
       "    </tr>\n",
       "    <tr>\n",
       "      <th>611</th>\n",
       "      <td>양원역</td>\n",
       "      <td>37.6066536267232</td>\n",
       "      <td>127.106359790053</td>\n",
       "      <td>general</td>\n",
       "      <td>서울특별시 중랑구 양원역로10길 3 (망우동)</td>\n",
       "      <td>1522-3232</td>\n",
       "    </tr>\n",
       "    <tr>\n",
       "      <th>612</th>\n",
       "      <td>중화역</td>\n",
       "      <td>37.60170912407773</td>\n",
       "      <td>127.07841136432036</td>\n",
       "      <td>general</td>\n",
       "      <td>서울특별시 중랑구 봉화산로 35 1층</td>\n",
       "      <td>1522-3232</td>\n",
       "    </tr>\n",
       "  </tbody>\n",
       "</table>\n",
       "<p>613 rows × 6 columns</p>\n",
       "</div>"
      ],
      "text/plain": [
       "         매장명                 위도                  경도     매장타입  \\\n",
       "0    역삼아레나빌딩          37.501087          127.043069  general   \n",
       "1     논현역사거리          37.510178          127.022223  general   \n",
       "2    신사역성일빌딩         37.5139309         127.0206057  general   \n",
       "3     국기원사거리          37.499517          127.031495  general   \n",
       "4     대치재경빌딩          37.494668          127.062583  general   \n",
       "..       ...                ...                 ...      ...   \n",
       "608     사가정역          37.579594          127.087966  general   \n",
       "609      상봉역           37.59689           127.08647  general   \n",
       "610       묵동          37.615368          127.076633  general   \n",
       "611      양원역   37.6066536267232    127.106359790053  general   \n",
       "612      중화역  37.60170912407773  127.07841136432036  general   \n",
       "\n",
       "                                        주소       전화번호  \n",
       "0                  서울특별시 강남구 언주로 425 (역삼동)  1522-3232  \n",
       "1                 서울특별시 강남구 강남대로 538 (논현동)  1522-3232  \n",
       "2                 서울특별시 강남구 강남대로 584 (논현동)  1522-3232  \n",
       "3                 서울특별시 강남구 테헤란로 125 (역삼동)  1522-3232  \n",
       "4               서울특별시 강남구 남부순환로 2947 (대치동)  1522-3232  \n",
       "..                                     ...        ...  \n",
       "608                      서울특별시 중랑구 면목로 310  1522-3232  \n",
       "609                서울특별시 중랑구 망우로 307 (상봉동)  1522-3232  \n",
       "610  서울특별시 중랑구 동일로 952 (묵동, 로프트원 태릉입구역) 1층  1522-3232  \n",
       "611              서울특별시 중랑구 양원역로10길 3 (망우동)  1522-3232  \n",
       "612                   서울특별시 중랑구 봉화산로 35 1층  1522-3232  \n",
       "\n",
       "[613 rows x 6 columns]"
      ]
     },
     "execution_count": 82,
     "metadata": {},
     "output_type": "execute_result"
    }
   ],
   "source": [
    "dfStarBucksSeoul"
   ]
  },
  {
   "cell_type": "code",
   "execution_count": 86,
   "metadata": {},
   "outputs": [
    {
     "data": {
      "text/html": [
       "<div>\n",
       "<style scoped>\n",
       "    .dataframe tbody tr th:only-of-type {\n",
       "        vertical-align: middle;\n",
       "    }\n",
       "\n",
       "    .dataframe tbody tr th {\n",
       "        vertical-align: top;\n",
       "    }\n",
       "\n",
       "    .dataframe thead th {\n",
       "        text-align: right;\n",
       "    }\n",
       "</style>\n",
       "<table border=\"1\" class=\"dataframe\">\n",
       "  <thead>\n",
       "    <tr style=\"text-align: right;\">\n",
       "      <th></th>\n",
       "      <th>매장명</th>\n",
       "      <th>위도</th>\n",
       "      <th>경도</th>\n",
       "      <th>매장타입</th>\n",
       "      <th>주소</th>\n",
       "      <th>전화번호</th>\n",
       "    </tr>\n",
       "  </thead>\n",
       "  <tbody>\n",
       "    <tr>\n",
       "      <th>608</th>\n",
       "      <td>사가정역</td>\n",
       "      <td>37.579594</td>\n",
       "      <td>127.087966</td>\n",
       "      <td>general</td>\n",
       "      <td>서울특별시 중랑구 면목로 310</td>\n",
       "      <td>1522-3232</td>\n",
       "    </tr>\n",
       "    <tr>\n",
       "      <th>609</th>\n",
       "      <td>상봉역</td>\n",
       "      <td>37.59689</td>\n",
       "      <td>127.08647</td>\n",
       "      <td>general</td>\n",
       "      <td>서울특별시 중랑구 망우로 307 (상봉동)</td>\n",
       "      <td>1522-3232</td>\n",
       "    </tr>\n",
       "    <tr>\n",
       "      <th>610</th>\n",
       "      <td>묵동</td>\n",
       "      <td>37.615368</td>\n",
       "      <td>127.076633</td>\n",
       "      <td>general</td>\n",
       "      <td>서울특별시 중랑구 동일로 952 (묵동, 로프트원 태릉입구역) 1층</td>\n",
       "      <td>1522-3232</td>\n",
       "    </tr>\n",
       "    <tr>\n",
       "      <th>611</th>\n",
       "      <td>양원역</td>\n",
       "      <td>37.6066536267232</td>\n",
       "      <td>127.106359790053</td>\n",
       "      <td>general</td>\n",
       "      <td>서울특별시 중랑구 양원역로10길 3 (망우동)</td>\n",
       "      <td>1522-3232</td>\n",
       "    </tr>\n",
       "    <tr>\n",
       "      <th>612</th>\n",
       "      <td>중화역</td>\n",
       "      <td>37.60170912407773</td>\n",
       "      <td>127.07841136432036</td>\n",
       "      <td>general</td>\n",
       "      <td>서울특별시 중랑구 봉화산로 35 1층</td>\n",
       "      <td>1522-3232</td>\n",
       "    </tr>\n",
       "  </tbody>\n",
       "</table>\n",
       "</div>"
      ],
      "text/plain": [
       "      매장명                 위도                  경도     매장타입  \\\n",
       "608  사가정역          37.579594          127.087966  general   \n",
       "609   상봉역           37.59689           127.08647  general   \n",
       "610    묵동          37.615368          127.076633  general   \n",
       "611   양원역   37.6066536267232    127.106359790053  general   \n",
       "612   중화역  37.60170912407773  127.07841136432036  general   \n",
       "\n",
       "                                        주소       전화번호  \n",
       "608                      서울특별시 중랑구 면목로 310  1522-3232  \n",
       "609                서울특별시 중랑구 망우로 307 (상봉동)  1522-3232  \n",
       "610  서울특별시 중랑구 동일로 952 (묵동, 로프트원 태릉입구역) 1층  1522-3232  \n",
       "611              서울특별시 중랑구 양원역로10길 3 (망우동)  1522-3232  \n",
       "612                   서울특별시 중랑구 봉화산로 35 1층  1522-3232  "
      ]
     },
     "execution_count": 86,
     "metadata": {},
     "output_type": "execute_result"
    }
   ],
   "source": [
    "dfStarBucksSeoul.tail()"
   ]
  },
  {
   "cell_type": "code",
   "execution_count": 87,
   "metadata": {},
   "outputs": [
    {
     "name": "stdout",
     "output_type": "stream",
     "text": [
      "<class 'pandas.core.frame.DataFrame'>\n",
      "RangeIndex: 613 entries, 0 to 612\n",
      "Data columns (total 6 columns):\n",
      " #   Column  Non-Null Count  Dtype \n",
      "---  ------  --------------  ----- \n",
      " 0   매장명     613 non-null    object\n",
      " 1   위도      613 non-null    object\n",
      " 2   경도      613 non-null    object\n",
      " 3   매장타입    613 non-null    object\n",
      " 4   주소      613 non-null    object\n",
      " 5   전화번호    613 non-null    object\n",
      "dtypes: object(6)\n",
      "memory usage: 28.9+ KB\n"
     ]
    }
   ],
   "source": [
    "# 결측치가 없음\n",
    "dfStarBucksSeoul.info()"
   ]
  },
  {
   "cell_type": "code",
   "execution_count": 88,
   "metadata": {},
   "outputs": [],
   "source": [
    "dfStarBucksSeoul.to_excel('./data/starbucks_seoul_list.xlsx', index=False)"
   ]
  },
  {
   "cell_type": "markdown",
   "metadata": {},
   "source": [
    "##### 서울 열린 데이터광장 OpenAPI 공공데이터 수집\n",
    "\n",
    "- 아래 방법 동작X"
   ]
  },
  {
   "cell_type": "code",
   "execution_count": 89,
   "metadata": {},
   "outputs": [],
   "source": [
    "# 서울열린데이터광장 API 키\n",
    "SEOUL_API_KEY = '5a66586f68676a77313037615a70464a'"
   ]
  },
  {
   "cell_type": "code",
   "execution_count": 90,
   "metadata": {},
   "outputs": [
    {
     "data": {
      "text/plain": [
       "'http://openapi.seoul.go.kr:8088/5a66586f68676a77313037615a70464a/json/SdeTlSccoSigW/1/25'"
      ]
     },
     "execution_count": 90,
     "metadata": {},
     "output_type": "execute_result"
    }
   ],
   "source": [
    "# 서울열린데이터광장 호출 URL\n",
    "url = f'http://openapi.seoul.go.kr:8088/{SEOUL_API_KEY}/json/SdeTlSccoSigW/1/25'\n",
    "url"
   ]
  },
  {
   "cell_type": "markdown",
   "metadata": {},
   "source": [
    "## 행정구역 데이터(위경도 + 구역)\n",
    "\n",
    "https://github.com/southkorea/seoul-maps"
   ]
  },
  {
   "cell_type": "code",
   "execution_count": null,
   "metadata": {},
   "outputs": [],
   "source": [
    "## 행정구역 데이터(위경도 + 구역)\n"
   ]
  }
 ],
 "metadata": {
  "kernelspec": {
   "display_name": "Python 3",
   "language": "python",
   "name": "python3"
  },
  "language_info": {
   "codemirror_mode": {
    "name": "ipython",
    "version": 3
   },
   "file_extension": ".py",
   "mimetype": "text/x-python",
   "name": "python",
   "nbconvert_exporter": "python",
   "pygments_lexer": "ipython3",
   "version": "3.12.2"
  }
 },
 "nbformat": 4,
 "nbformat_minor": 2
}
