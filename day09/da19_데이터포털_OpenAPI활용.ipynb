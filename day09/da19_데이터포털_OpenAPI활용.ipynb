{
 "cells": [
  {
   "cell_type": "markdown",
   "metadata": {},
   "source": [
    "## 빅데이터 실습\n",
    "\n",
    "### 데이터포털 OpenAPI 사용\n",
    "\n",
    "#### 데이터 수집\n",
    "\n",
    "##### OpenAPI\n",
    "- 한국관광공사 관광빅데이터 정보서비스 GW\n",
    "    - 기본 URL : https://apis.data.go.kr/B551011/DataLabService/metcoRegnVisitrDDList\n",
    "    - 서비스키 : CFIkrCxBBMQoI6pBWi%2FHlliFGoVi1G%2B9R6stmXhdt9sh3uIrEXyiGl8Vg%2FsZAtf5wAXqKnxFM0%2BzMDzMnm5kjQ%3D%3D\n",
    "    - Parameter(?뒤) : \n",
    "        - serviceKey = 본인서비스키\n",
    "        - numOfRows = 한 페이지에 나타낼 결과 수(default 10)\n",
    "        - pageNo = 페이지 번호(default 1)\n",
    "        - MobileOS = IOS, Android, WIN, etc(기타)\n",
    "        - startYmd = 시작일자\n",
    "        - endYmd = 종료일자"
   ]
  },
  {
   "cell_type": "code",
   "execution_count": 12,
   "metadata": {},
   "outputs": [],
   "source": [
    "# 필요 라이브러리 사용등록\n",
    "from urllib.request import Request, urlopen\n",
    "from datetime import datetime\n",
    "import ssl"
   ]
  },
  {
   "cell_type": "code",
   "execution_count": 8,
   "metadata": {},
   "outputs": [],
   "source": [
    "# 웹으로 OpenAPI 요청하기 위한 기본 함수\n",
    "def getRequestUrl(url):\n",
    "    req = Request(url)\n",
    "    try:\n",
    "        res = urlopen(req)\n",
    "        if res.getcode() == 200: # 웹 URL 요청결과가 OK\n",
    "            print(f'[{datetime.now}] Url 요청 성공!')\n",
    "            return res.read().decode('utf-8') # 웹으로 전달될 때는 URL, utf-8로 인코딩, 돌려받을 때는 utf-8로 디코딩 필수!!\n",
    "    except Exception as e:\n",
    "        print(f'[{datetime.now}] getRequestUrl() 호출 예외 : {e}')\n",
    "        return None"
   ]
  },
  {
   "cell_type": "code",
   "execution_count": 10,
   "metadata": {},
   "outputs": [],
   "source": [
    "# 파라미터를 변경하면서 OpenAPI를 요청하고 결과데이터 리턴하는 함수\n",
    "# 만약 시작일자, 종료일자가 다르면 파라미터를 두 개 받아야 함\n",
    "serviceKey = r'CFIkrCxBBMQoI6pBWi%2FHlliFGoVi1G%2B9R6stmXhdt9sh3uIrEXyiGl8Vg%2FsZAtf5wAXqKnxFM0%2BzMDzMnm5kjQ%3D%3D'\n",
    "\n",
    "def getTouristDataService(yyyymmdd):\n",
    "    serviceUrl = 'https://apis.data.go.kr/B551011/DataLabService/metcoRegnVisitrDDList'\n",
    "    parameters = f'?serviceKey={serviceKey}' + \\\n",
    "                '&numOfRows=60' + \\\n",
    "                '&pageNo=1' + \\\n",
    "                '&MobileApp=AppTest' + \\\n",
    "                '&MobileOS=etc' + \\\n",
    "                f'&startYmd={yyyymmdd}' + \\\n",
    "                f'&endYmd={yyyymmdd}'\n",
    "    url = serviceUrl + parameters\n",
    "    print(url)\n",
    "    # ssl._create_default_context = ssl._create_unverified_context\n",
    "    response = getRequestUrl(url) # OpenAPI URL로 실제 요청\n",
    "\n",
    "    if response == None:\n",
    "        return None\n",
    "    else:\n",
    "        return response"
   ]
  },
  {
   "cell_type": "code",
   "execution_count": 11,
   "metadata": {},
   "outputs": [
    {
     "name": "stdout",
     "output_type": "stream",
     "text": [
      "https://apis.data.go.kr/B551011/DataLabService/metcoRegnVisitrDDList?serviceKey=CFIkrCxBBMQoI6pBWi%2FHlliFGoVi1G%2B9R6stmXhdt9sh3uIrEXyiGl8Vg%2FsZAtf5wAXqKnxFM0%2BzMDzMnm5kjQ%3D%3D&numOfRows=60&pageNo=1&MobileOS=etc&startYmd=20231201&endYmd=20231201\n",
      "[<built-in method now of type object at 0x00007FF9D813C0F0>] getRequestUrl() 호출 예외 : <urlopen error [SSL: SSLV3_ALERT_ILLEGAL_PARAMETER] sslv3 alert illegal parameter (_ssl.c:1000)>\n"
     ]
    }
   ],
   "source": [
    "# 실행테스트\n",
    "getTouristDataService('20231201')"
   ]
  }
 ],
 "metadata": {
  "kernelspec": {
   "display_name": "Python 3",
   "language": "python",
   "name": "python3"
  },
  "language_info": {
   "codemirror_mode": {
    "name": "ipython",
    "version": 3
   },
   "file_extension": ".py",
   "mimetype": "text/x-python",
   "name": "python",
   "nbconvert_exporter": "python",
   "pygments_lexer": "ipython3",
   "version": "3.12.2"
  }
 },
 "nbformat": 4,
 "nbformat_minor": 2
}
