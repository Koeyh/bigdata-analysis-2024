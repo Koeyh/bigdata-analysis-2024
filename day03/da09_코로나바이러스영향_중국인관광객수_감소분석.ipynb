{
 "cells": [
  {
   "cell_type": "markdown",
   "metadata": {},
   "source": [
    "## 빅데이터 실습\n",
    "\n",
    "### COVID19(코로나 바이러스)의 영향으로 중국인 관광객이 얼마나 줄었을까?\n",
    "- 교재 121p 부터\n",
    "#### 데이터 수집\n",
    "- 한국관광공사, 한국관광 데이터랩 데이터\n",
    "\n",
    "\n",
    "#### 데이터 로드 및 전처리\n",
    "- 분석 전 가장 중요한 단계. 데이터 분석의 8할은 데이터 전처리이다.\n",
    "- Data Proccessing : 분석에 적합하도록 원하는(쉬운) 형태로 데이터를 가공하는 과정\n",
    "    - 결측치(None, Null, Nan) 처리, 이상치 처리, 변수 정규화, 파생변수 생성\n",
    "\n",
    "#### 데이터 엑셀파일 로드"
   ]
  },
  {
   "cell_type": "code",
   "execution_count": null,
   "metadata": {},
   "outputs": [],
   "source": [
    "# 판다스 사용 등록\n",
    "import pandas as pd"
   ]
  },
  {
   "cell_type": "code",
   "execution_count": null,
   "metadata": {},
   "outputs": [],
   "source": [
    "## 1. 엑셀파일 경로지정하여 불러오기\n",
    "kto_201901 = pd.read_excel('./data/kto_201901.xlsx', header=1, usecols='A:G', skipfooter=4)\n",
    "kto_201901"
   ]
  },
  {
   "cell_type": "code",
   "execution_count": null,
   "metadata": {},
   "outputs": [],
   "source": [
    "kto_201901.head()"
   ]
  },
  {
   "cell_type": "code",
   "execution_count": null,
   "metadata": {},
   "outputs": [],
   "source": [
    "kto_201901.tail()"
   ]
  },
  {
   "cell_type": "markdown",
   "metadata": {},
   "source": [
    "데이터 탐색(전처리를 위한)"
   ]
  },
  {
   "cell_type": "code",
   "execution_count": null,
   "metadata": {},
   "outputs": [],
   "source": [
    "# DataFrame 각 정보개요 확인\n",
    "kto_201901.info()"
   ]
  },
  {
   "cell_type": "code",
   "execution_count": null,
   "metadata": {},
   "outputs": [],
   "source": [
    "# DataFrame의 통계치 확인\n",
    "kto_201901.describe()"
   ]
  },
  {
   "cell_type": "code",
   "execution_count": null,
   "metadata": {},
   "outputs": [],
   "source": [
    "# 한번도 한국에 방문한 적 없는 대륙, 나라(목적별)\n",
    "# 문자열 여러줄, 논리연산 여러줄 작성 시 '\\' 붙여줘야 문법오류 없음\n",
    "condition = (kto_201901['관광'] == 0) | (kto_201901['상용'] == 0) | \\\n",
    "    (kto_201901['공용'] == 0) | (kto_201901['유학/연수'] == 0)"
   ]
  },
  {
   "cell_type": "code",
   "execution_count": null,
   "metadata": {},
   "outputs": [],
   "source": [
    "# cmap : Pandas DataFrame 컬러맵\n",
    "kto_201901[condition]\n",
    "''' cmap에 들어갈 수 있는 values(색상)\n",
    "'Accent', 'Accent_r', 'Blues', 'Blues_r', \n",
    "'BrBG', 'BrBG_r', 'BuGn', 'BuGn_r', 'BuPu', 'BuPu_r', \n",
    "'CMRmap', 'CMRmap_r', 'Dark2', 'Dark2_r', 'GnBu', 'GnBu_r', \n",
    "'Grays', 'Greens', 'Greens_r', 'Greys', 'Greys_r', 'OrRd', 'OrRd_r', \n",
    "'Oranges', 'Oranges_r', 'PRGn', 'PRGn_r', 'Paired', 'Paired_r', \n",
    "'Pastel1', 'Pastel1_r', 'Pastel2', 'Pastel2_r', \n",
    "'PiYG', 'PiYG_r', 'PuBu', 'PuBuGn', 'PuBuGn_r', 'PuBu_r', \n",
    "'PuOr', 'PuOr_r', 'PuRd', 'PuRd_r', 'Purples', 'Purples_r', \n",
    "'RdBu', 'RdBu_r', 'RdGy', 'RdGy_r', 'RdPu', 'RdPu_r', \n",
    "'RdYlBu', 'RdYlBu_r', 'RdYlGn', 'RdYlGn_r', \n",
    "'Reds', 'Reds_r', 'Set1', 'Set1_r', 'Set2', 'Set2_r', 'Set3', 'Set3_r', \n",
    "'Spectral', 'Spectral_r', 'Wistia', 'Wistia_r', \n",
    "'YlGn', 'YlGnBu', 'YlGnBu_r', 'YlGn_r', 'YlOrBr', 'YlOrBr_r', 'YlOrRd', 'YlOrRd_r', \n",
    "'afmhot', 'afmhot_r', 'autumn', 'autumn_r', 'binary', 'binary_r', \n",
    "'bone', 'bone_r', 'brg', 'brg_r', 'bwr', 'bwr_r', 'cividis', 'cividis_r', \n",
    "'cool', 'cool_r', 'coolwarm', 'coolwarm_r', 'copper', 'copper_r', 'cubehelix', \n",
    "'cubehelix_r', 'flag', 'flag_r', 'gist_earth', 'gist_earth_r', \n",
    "'gist_gray', 'gist_gray_r', 'gist_grey', 'gist_heat', 'gist_heat_r', 'gist_ncar',\n",
    "'gist_ncar_r', 'gist_rainbow', 'gist_rainbow_r', 'gist_stern', 'gist_stern_r', \n",
    "'gist_yarg', 'gist_yarg_r', 'gist_yerg', 'gnuplot', 'gnuplot2', 'gnuplot2_r',\n",
    "'gnuplot_r', 'gray', 'gray_r', 'grey', 'hot', 'hot_r', 'hsv', 'hsv_r', \n",
    "'inferno', 'inferno_r', 'jet', 'jet_r', 'magma', 'magma_r', \n",
    "'nipy_spectral', 'nipy_spectral_r', 'ocean', 'ocean_r', \n",
    "'pink', 'pink_r', 'plasma', 'plasma_r', 'prism', 'prism_r', \n",
    "'rainbow', 'rainbow_r', 'seismic', 'seismic_r', 'spring', 'spring_r', \n",
    "'summer', 'summer_r', 'tab10', 'tab10_r', 'tab20', 'tab20_r', 'tab20b', 'tab20b_r', 'tab20c', 'tab20c_r', \n",
    "'terrain', 'terrain_r', 'turbo', 'turbo_r', \n",
    "'twilight', 'twilight_r', 'twilight_shifted', 'twilight_shifted_r', 'viridis', 'viridis_r', 'winter', 'winter_r'\n",
    "'''\n",
    "kto_201901.style.background_gradient(axis=None, vmin=0, vmax=200_000, cmap='Blues_r')"
   ]
  },
  {
   "cell_type": "code",
   "execution_count": null,
   "metadata": {},
   "outputs": [],
   "source": [
    "## 2. 컬럼 추가\n",
    "## 기준 년월 추가\n",
    "kto_201901['기준년월'] = '2019-01'\n",
    "kto_201901"
   ]
  },
  {
   "cell_type": "code",
   "execution_count": null,
   "metadata": {},
   "outputs": [],
   "source": [
    "## 3. 일부 데이터 추출\n",
    "## 국적데이터만 추출\n",
    "kto_201901['국적'].unique()"
   ]
  },
  {
   "cell_type": "code",
   "execution_count": null,
   "metadata": {},
   "outputs": [],
   "source": [
    "## 8개의 데이터를 뽑아내기위해 코드를 짜는건 너무 비효율적\n",
    "for item in kto_201901['국적']:\n",
    "    if item.strip()[-1] == '주':\n",
    "        print(item)"
   ]
  },
  {
   "cell_type": "code",
   "execution_count": null,
   "metadata": {},
   "outputs": [],
   "source": [
    "## 대륙 리스트 총 7개\n",
    "continent_list = ['아시아주', '미주', '구주', '대양주', '아프리카주', '기타대륙', '교포소계']\n",
    "continent_list"
   ]
  },
  {
   "cell_type": "code",
   "execution_count": null,
   "metadata": {},
   "outputs": [],
   "source": [
    "## 4. 소계를 제외한 실 데이터만 추출\n",
    "## 대륙을 제외한 국적 리스트 추출\n",
    "# condition = kto_201901['국적'] == condition = kto_201901.국적 / 좌측 표기법 추천\n",
    "condition = kto_201901['국적'].isin(continent_list) == False\n",
    "kto201901_countries = kto_201901[condition]\n",
    "kto201901_countries['국적'].unique()"
   ]
  },
  {
   "cell_type": "code",
   "execution_count": null,
   "metadata": {},
   "outputs": [],
   "source": [
    "# 중간에 비는 인덱스 없이 다시 지정, inplace=True : 기존 데이터를 대체해줌 / 교재 134p\n",
    "kto201901_countries.reset_index(drop=True, inplace=True)"
   ]
  },
  {
   "cell_type": "code",
   "execution_count": null,
   "metadata": {},
   "outputs": [],
   "source": [
    "kto201901_countries"
   ]
  },
  {
   "cell_type": "code",
   "execution_count": null,
   "metadata": {},
   "outputs": [],
   "source": [
    "## 대륙컬럼을 추가 사전작업\n",
    "for i in continent_list:\n",
    "    print(i)"
   ]
  },
  {
   "cell_type": "code",
   "execution_count": null,
   "metadata": {},
   "outputs": [],
   "source": [
    "continents = ['아시아']*25 + ['아메리카']*5 + ['유럽']*23 + ['오세아니아']*3 + ['아프리카']*2 + ['기타대륙'] + ['교포'] "
   ]
  },
  {
   "cell_type": "code",
   "execution_count": null,
   "metadata": {},
   "outputs": [],
   "source": [
    "## SettingWithCopyWarning 해제하는법\n",
    "pd.set_option('mode.chained_assignment', None)"
   ]
  },
  {
   "cell_type": "code",
   "execution_count": null,
   "metadata": {},
   "outputs": [],
   "source": [
    "## 5. 국적간 데이터 대륙컬럼 추가\n",
    "# 국적간 데이터 DF 마지막에 대륙컬럼 추가\n",
    "kto201901_countries['대륙'] = continents\n",
    "kto201901_countries"
   ]
  },
  {
   "cell_type": "code",
   "execution_count": null,
   "metadata": {},
   "outputs": [],
   "source": [
    "## 6. 국적별 관광객 비율컬럼 추가\n",
    "kto201901_countries['관광객비율(%)']= round(kto201901_countries['관광'] / kto201901_countries['계'] * 100, 1)\n",
    "kto201901_countries"
   ]
  },
  {
   "cell_type": "code",
   "execution_count": null,
   "metadata": {},
   "outputs": [],
   "source": [
    "## 관광객 비율이 높은 나라 Top5\n",
    "kto201901_countries.sort_values(by='관광객비율(%)', ascending=False).head()"
   ]
  },
  {
   "cell_type": "code",
   "execution_count": null,
   "metadata": {},
   "outputs": [],
   "source": [
    "## 관광객 비율이 낮은 나라 Top5\n",
    "kto201901_countries.sort_values(by='관광객비율(%)', ascending=True).head()"
   ]
  },
  {
   "cell_type": "code",
   "execution_count": null,
   "metadata": {},
   "outputs": [],
   "source": [
    "## 관광객 비율 평균 pivot_table\n",
    "kto201901_countries.pivot_table(values='관광객비율(%)', index='대륙', aggfunc='mean')"
   ]
  },
  {
   "cell_type": "code",
   "execution_count": null,
   "metadata": {},
   "outputs": [],
   "source": [
    "## 중국만 필터링\n",
    "condition = kto201901_countries['국적'] == '중국'\n",
    "kto201901_countries[condition]"
   ]
  },
  {
   "cell_type": "code",
   "execution_count": null,
   "metadata": {},
   "outputs": [],
   "source": [
    "## 전체 외국인 관광객 수\n",
    "totalSum = sum(kto201901_countries['관광'])"
   ]
  },
  {
   "cell_type": "code",
   "execution_count": null,
   "metadata": {},
   "outputs": [],
   "source": [
    "## 전체비율(%) 컬럼 추가\n",
    "## 전체비율(%) 계산\n",
    "kto201901_countries['전체비율(%)'] = round(kto201901_countries['관광'] / totalSum * 100, 1) "
   ]
  },
  {
   "cell_type": "code",
   "execution_count": null,
   "metadata": {},
   "outputs": [],
   "source": [
    "kto201901_countries.sort_values(by='전체비율(%)', ascending=False).head(10)"
   ]
  },
  {
   "cell_type": "code",
   "execution_count": null,
   "metadata": {},
   "outputs": [],
   "source": [
    "## 125개 데이터 전부 확인불가\n",
    "## 샘플링(전체에서 일부만 뽑아서) 조회\n",
    "kto_201509 = pd.read_excel('./data/kto_201509.xlsx', header=1, usecols='A:G', skipfooter=4)\n",
    "kto_201509.info()"
   ]
  },
  {
   "cell_type": "markdown",
   "metadata": {},
   "source": [
    "##### 종합\n",
    "- 위에서 하나의 엑셀로 처리한 방식을 반복문을 통해 전체 125개 데이터를 통합하는 작업\n",
    "- 1~7까지의 작업을 하나의 함수로 생성"
   ]
  },
  {
   "cell_type": "code",
   "execution_count": null,
   "metadata": {},
   "outputs": [],
   "source": [
    "## 년월별 데이터 전처리 함수\n",
    "def createKtoData(yyyy, mm):\n",
    "    # 1. 엑셀파일 지정\n",
    "    filePath = f'./data/kto_{yyyy}{mm:02d}.xlsx' # mm이 1~9로 들어오면 01~09로 변경해줘야함\n",
    "    # 2. 엑셀파일 불러오기\n",
    "    df = pd.read_excel(filePath, header=1, usecols='A:G', skipfooter=4)\n",
    "    # 3. 기준년월 컬럼 추가\n",
    "    df['기준년월'] = f'{yyyy}-{mm:02d}'\n",
    "    # 4. 국적 컬럼에서 대륙 제거 후 국가만 추출\n",
    "    ignore_list = ['아시아주', '미주', '구주', '대양주', '아프리카주', '기타대륙', '교포소계']\n",
    "    # 대륙 제거 / 기존 DF에서 대륙을 제외한 값을 condition에 저장\n",
    "    condition = df['국적'].isin(ignore_list) == False\n",
    "    df_countries = df[condition].reset_index(drop=True)\n",
    "    ## 5. 대륙컬럼 추가\n",
    "    continents = ['아시아']*25 + ['아메리카']*5 + ['유럽']*23 + ['오세아니아']*3 + ['아프리카']*2 + ['기타대륙'] + ['교포'] \n",
    "    df_countries['대륙'] = continents\n",
    "    ## 6. 국적별 관광객 비율 컬럼 추가\n",
    "    df_countries['관광객비율(%)']= round(df_countries['관광'] / df_countries['계'] * 100, 1)\n",
    "    ## 7. 전체 비율 컬럼 추가\n",
    "    totalSum = sum(kto201901_countries['관광'])\n",
    "    df_countries['전체비율(%)'] = round(df_countries['관광'] / totalSum * 100, 1) \n",
    "\n",
    "    ## 8. 결과 리턴\n",
    "    return(df_countries)\n"
   ]
  },
  {
   "cell_type": "code",
   "execution_count": null,
   "metadata": {},
   "outputs": [],
   "source": [
    "df_test = createKtoData(2010, 1)\n",
    "df_test"
   ]
  },
  {
   "cell_type": "code",
   "execution_count": null,
   "metadata": {},
   "outputs": [],
   "source": [
    "## 반복문으로 기준년월 출력\n",
    "for yyyy in range(2010, 2021):\n",
    "    for mm in range(1, 13):\n",
    "        print(yyyy,mm)"
   ]
  },
  {
   "cell_type": "markdown",
   "metadata": {},
   "source": [
    "##### tqdm 라이브러리\n",
    "- 프로그레스바 "
   ]
  },
  {
   "cell_type": "code",
   "execution_count": null,
   "metadata": {},
   "outputs": [],
   "source": [
    "from tqdm import tqdm\n",
    "import time"
   ]
  },
  {
   "cell_type": "code",
   "execution_count": null,
   "metadata": {},
   "outputs": [],
   "source": [
    "text = ''\n",
    "strList = ['H', 'e', 'l', 'l', 'o','P','y','t','h','o','n']\n",
    "for char in tqdm(strList):\n",
    "    text = text + char\n",
    "    time.sleep(0.5)"
   ]
  },
  {
   "cell_type": "code",
   "execution_count": null,
   "metadata": {},
   "outputs": [],
   "source": [
    "## 빈 DF 생성\n",
    "df_sample = pd.DataFrame()"
   ]
  },
  {
   "cell_type": "code",
   "execution_count": null,
   "metadata": {},
   "outputs": [],
   "source": [
    "for yyyy in tqdm(range(2010, 2021)):\n",
    "    for mm in range(1, 13):\n",
    "        try:\n",
    "            temp = createKtoData(yyyy, mm)\n",
    "            df_sample = pd.concat([df_sample, temp], ignore_index=True)\n",
    "        except:\n",
    "            pass\n"
   ]
  },
  {
   "cell_type": "code",
   "execution_count": null,
   "metadata": {},
   "outputs": [],
   "source": [
    "## 결과보기\n",
    "df_sample.info()"
   ]
  },
  {
   "cell_type": "code",
   "execution_count": null,
   "metadata": {},
   "outputs": [],
   "source": [
    "## 파일 저장\n",
    "df_sample.to_excel('./data/kto_sample.xlsx', index=False)"
   ]
  },
  {
   "cell_type": "code",
   "execution_count": null,
   "metadata": {},
   "outputs": [],
   "source": [
    "## 중국국적 데이터만 추출\n",
    "condition = df_sample['국적'] == '중국'"
   ]
  },
  {
   "cell_type": "code",
   "execution_count": null,
   "metadata": {},
   "outputs": [],
   "source": [
    "df_china = df_sample[condition]"
   ]
  },
  {
   "cell_type": "markdown",
   "metadata": {},
   "source": [
    "#### 데이터 시각화/분석\n",
    "분석, 시각화 순서대로 할 수도 있으며, 시각화한 지표로 분석할 수도 있다."
   ]
  }
 ],
 "metadata": {
  "kernelspec": {
   "display_name": "Python 3",
   "language": "python",
   "name": "python3"
  },
  "language_info": {
   "codemirror_mode": {
    "name": "ipython",
    "version": 3
   },
   "file_extension": ".py",
   "mimetype": "text/x-python",
   "name": "python",
   "nbconvert_exporter": "python",
   "pygments_lexer": "ipython3",
   "version": "3.12.2"
  }
 },
 "nbformat": 4,
 "nbformat_minor": 2
}
