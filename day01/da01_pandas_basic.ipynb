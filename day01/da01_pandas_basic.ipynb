{
 "cells": [
  {
   "cell_type": "markdown",
   "metadata": {},
   "source": [
    "## Pandas 학습\n",
    "\n",
    "### 라이브러리 추가\n",
    "\n",
    "'''python\n",
    "!pip install pandas\n",
    "'''\n",
    "\n",
    "- Successfully installed... : 최초설치\n",
    "- Requirement already satisfied...: 이미 설치됨"
   ]
  },
  {
   "cell_type": "code",
   "execution_count": 12,
   "metadata": {},
   "outputs": [
    {
     "name": "stdout",
     "output_type": "stream",
     "text": [
      "Requirement already satisfied: pandas in c:\\dev\\python312\\lib\\site-packages (2.2.1)\n",
      "Requirement already satisfied: numpy<2,>=1.26.0 in c:\\dev\\python312\\lib\\site-packages (from pandas) (1.26.4)\n",
      "Requirement already satisfied: python-dateutil>=2.8.2 in c:\\dev\\python312\\lib\\site-packages (from pandas) (2.8.2)\n",
      "Requirement already satisfied: pytz>=2020.1 in c:\\dev\\python312\\lib\\site-packages (from pandas) (2024.1)\n",
      "Requirement already satisfied: tzdata>=2022.7 in c:\\dev\\python312\\lib\\site-packages (from pandas) (2024.1)\n",
      "Requirement already satisfied: six>=1.5 in c:\\dev\\python312\\lib\\site-packages (from python-dateutil>=2.8.2->pandas) (1.16.0)\n"
     ]
    }
   ],
   "source": [
    "!pip install pandas"
   ]
  },
  {
   "cell_type": "markdown",
   "metadata": {},
   "source": [
    "### 판다스 라이브러리 로딩\n",
    "'''python\n",
    "import pandas\n",
    "'''"
   ]
  },
  {
   "cell_type": "code",
   "execution_count": 13,
   "metadata": {},
   "outputs": [],
   "source": [
    "import pandas as pd"
   ]
  },
  {
   "cell_type": "markdown",
   "metadata": {},
   "source": [
    "### Pandas 기본\n",
    "#### DataFrame 객체\n",
    "- 파이썬 2차원 리스트(배열)와 동일\n",
    "- 행(row) 각 하나의 유니크 데이터 묶음\n",
    "- 열(column) 유니크한 데이터의 하나하나의 특성"
   ]
  },
  {
   "cell_type": "code",
   "execution_count": 14,
   "metadata": {},
   "outputs": [
    {
     "data": {
      "text/html": [
       "<div>\n",
       "<style scoped>\n",
       "    .dataframe tbody tr th:only-of-type {\n",
       "        vertical-align: middle;\n",
       "    }\n",
       "\n",
       "    .dataframe tbody tr th {\n",
       "        vertical-align: top;\n",
       "    }\n",
       "\n",
       "    .dataframe thead th {\n",
       "        text-align: right;\n",
       "    }\n",
       "</style>\n",
       "<table border=\"1\" class=\"dataframe\">\n",
       "  <thead>\n",
       "    <tr style=\"text-align: right;\">\n",
       "      <th></th>\n",
       "      <th>이름</th>\n",
       "      <th>나이</th>\n",
       "      <th>지역</th>\n",
       "    </tr>\n",
       "  </thead>\n",
       "  <tbody>\n",
       "    <tr>\n",
       "      <th>0</th>\n",
       "      <td>이빵빵</td>\n",
       "      <td>28</td>\n",
       "      <td>서울</td>\n",
       "    </tr>\n",
       "    <tr>\n",
       "      <th>1</th>\n",
       "      <td>김옥지</td>\n",
       "      <td>28</td>\n",
       "      <td>서울</td>\n",
       "    </tr>\n",
       "    <tr>\n",
       "      <th>2</th>\n",
       "      <td>끼꼬</td>\n",
       "      <td>10</td>\n",
       "      <td>서울</td>\n",
       "    </tr>\n",
       "  </tbody>\n",
       "</table>\n",
       "</div>"
      ],
      "text/plain": [
       "    이름  나이  지역\n",
       "0  이빵빵  28  서울\n",
       "1  김옥지  28  서울\n",
       "2   끼꼬  10  서울"
      ]
     },
     "execution_count": 14,
     "metadata": {},
     "output_type": "execute_result"
    }
   ],
   "source": [
    "## 딕셔너리로 DataFrame 객체 생성 / 2차원 리스트와 동일하게 생성 가능\n",
    "data = {'이름': ['이빵빵', '김옥지', '끼꼬'], '나이':[28, 28, 10], '지역':['서울','서울','서울']}\n",
    "df = pd.DataFrame(data=data)\n",
    "df"
   ]
  },
  {
   "cell_type": "code",
   "execution_count": 15,
   "metadata": {},
   "outputs": [
    {
     "data": {
      "text/plain": [
       "[['이빵빵', 28, '서울', 'bbang2@naver.com', False],\n",
       " ['김옥지', 28, '서울', 'okz@gmail.com', False],\n",
       " ['끼꼬', 10, '서울', 'kk@naver.com', False],\n",
       " ['신형만', 60, '일본', 'g9@naver.com', True]]"
      ]
     },
     "execution_count": 15,
     "metadata": {},
     "output_type": "execute_result"
    }
   ],
   "source": [
    "## 2차원 리스트 생성\n",
    "data = [['이빵빵', 28, '서울', 'bbang2@naver.com', False], ['김옥지', 28, '서울', 'okz@gmail.com', False],\n",
    "        ['끼꼬', 10, '서울', 'kk@naver.com', False], ['신형만', 60, '일본', 'g9@naver.com', True]]\n",
    "\n",
    "data"
   ]
  },
  {
   "cell_type": "code",
   "execution_count": 16,
   "metadata": {},
   "outputs": [
    {
     "data": {
      "text/html": [
       "<div>\n",
       "<style scoped>\n",
       "    .dataframe tbody tr th:only-of-type {\n",
       "        vertical-align: middle;\n",
       "    }\n",
       "\n",
       "    .dataframe tbody tr th {\n",
       "        vertical-align: top;\n",
       "    }\n",
       "\n",
       "    .dataframe thead th {\n",
       "        text-align: right;\n",
       "    }\n",
       "</style>\n",
       "<table border=\"1\" class=\"dataframe\">\n",
       "  <thead>\n",
       "    <tr style=\"text-align: right;\">\n",
       "      <th></th>\n",
       "      <th>이름</th>\n",
       "      <th>나이</th>\n",
       "      <th>지역</th>\n",
       "      <th>e-mail</th>\n",
       "      <th>결혼유무</th>\n",
       "    </tr>\n",
       "  </thead>\n",
       "  <tbody>\n",
       "    <tr>\n",
       "      <th>0</th>\n",
       "      <td>이빵빵</td>\n",
       "      <td>28</td>\n",
       "      <td>서울</td>\n",
       "      <td>bbang2@naver.com</td>\n",
       "      <td>False</td>\n",
       "    </tr>\n",
       "    <tr>\n",
       "      <th>1</th>\n",
       "      <td>김옥지</td>\n",
       "      <td>28</td>\n",
       "      <td>서울</td>\n",
       "      <td>okz@gmail.com</td>\n",
       "      <td>False</td>\n",
       "    </tr>\n",
       "    <tr>\n",
       "      <th>2</th>\n",
       "      <td>끼꼬</td>\n",
       "      <td>10</td>\n",
       "      <td>서울</td>\n",
       "      <td>kk@naver.com</td>\n",
       "      <td>False</td>\n",
       "    </tr>\n",
       "    <tr>\n",
       "      <th>3</th>\n",
       "      <td>신형만</td>\n",
       "      <td>60</td>\n",
       "      <td>일본</td>\n",
       "      <td>g9@naver.com</td>\n",
       "      <td>True</td>\n",
       "    </tr>\n",
       "  </tbody>\n",
       "</table>\n",
       "</div>"
      ],
      "text/plain": [
       "    이름  나이  지역            e-mail   결혼유무\n",
       "0  이빵빵  28  서울  bbang2@naver.com  False\n",
       "1  김옥지  28  서울     okz@gmail.com  False\n",
       "2   끼꼬  10  서울      kk@naver.com  False\n",
       "3  신형만  60  일본      g9@naver.com   True"
      ]
     },
     "execution_count": 16,
     "metadata": {},
     "output_type": "execute_result"
    }
   ],
   "source": [
    "df = pd.DataFrame(data=data, columns=['이름', '나이', '지역', 'e-mail', '결혼유무'])\n",
    "df"
   ]
  },
  {
   "cell_type": "code",
   "execution_count": 20,
   "metadata": {},
   "outputs": [
    {
     "data": {
      "text/plain": [
       "0    이빵빵\n",
       "1    김옥지\n",
       "2     끼꼬\n",
       "3    신형만\n",
       "Name: 이름, dtype: object"
      ]
     },
     "execution_count": 20,
     "metadata": {},
     "output_type": "execute_result"
    }
   ],
   "source": [
    "## DataFrame에서 데이터 조회 (열) - 리스트는 for문을 써야 출력가능\n",
    "df['이름']"
   ]
  },
  {
   "cell_type": "code",
   "execution_count": 21,
   "metadata": {},
   "outputs": [
    {
     "data": {
      "text/html": [
       "<div>\n",
       "<style scoped>\n",
       "    .dataframe tbody tr th:only-of-type {\n",
       "        vertical-align: middle;\n",
       "    }\n",
       "\n",
       "    .dataframe tbody tr th {\n",
       "        vertical-align: top;\n",
       "    }\n",
       "\n",
       "    .dataframe thead th {\n",
       "        text-align: right;\n",
       "    }\n",
       "</style>\n",
       "<table border=\"1\" class=\"dataframe\">\n",
       "  <thead>\n",
       "    <tr style=\"text-align: right;\">\n",
       "      <th></th>\n",
       "      <th>이름</th>\n",
       "      <th>나이</th>\n",
       "    </tr>\n",
       "  </thead>\n",
       "  <tbody>\n",
       "    <tr>\n",
       "      <th>0</th>\n",
       "      <td>이빵빵</td>\n",
       "      <td>28</td>\n",
       "    </tr>\n",
       "    <tr>\n",
       "      <th>1</th>\n",
       "      <td>김옥지</td>\n",
       "      <td>28</td>\n",
       "    </tr>\n",
       "    <tr>\n",
       "      <th>2</th>\n",
       "      <td>끼꼬</td>\n",
       "      <td>10</td>\n",
       "    </tr>\n",
       "    <tr>\n",
       "      <th>3</th>\n",
       "      <td>신형만</td>\n",
       "      <td>60</td>\n",
       "    </tr>\n",
       "  </tbody>\n",
       "</table>\n",
       "</div>"
      ],
      "text/plain": [
       "    이름  나이\n",
       "0  이빵빵  28\n",
       "1  김옥지  28\n",
       "2   끼꼬  10\n",
       "3  신형만  60"
      ]
     },
     "execution_count": 21,
     "metadata": {},
     "output_type": "execute_result"
    }
   ],
   "source": [
    "## 데이터프레임 조회 (두개 열) \n",
    "df[['이름', '나이']]"
   ]
  },
  {
   "cell_type": "code",
   "execution_count": 22,
   "metadata": {},
   "outputs": [
    {
     "data": {
      "text/plain": [
       "이름                     이빵빵\n",
       "나이                      28\n",
       "지역                      서울\n",
       "e-mail    bbang2@naver.com\n",
       "결혼유무                 False\n",
       "Name: 0, dtype: object"
      ]
     },
     "execution_count": 22,
     "metadata": {},
     "output_type": "execute_result"
    }
   ],
   "source": [
    "## 데이터프레임 행으로 조회\n",
    "df.loc[0]"
   ]
  },
  {
   "cell_type": "code",
   "execution_count": 27,
   "metadata": {},
   "outputs": [
    {
     "data": {
      "text/html": [
       "<div>\n",
       "<style scoped>\n",
       "    .dataframe tbody tr th:only-of-type {\n",
       "        vertical-align: middle;\n",
       "    }\n",
       "\n",
       "    .dataframe tbody tr th {\n",
       "        vertical-align: top;\n",
       "    }\n",
       "\n",
       "    .dataframe thead th {\n",
       "        text-align: right;\n",
       "    }\n",
       "</style>\n",
       "<table border=\"1\" class=\"dataframe\">\n",
       "  <thead>\n",
       "    <tr style=\"text-align: right;\">\n",
       "      <th></th>\n",
       "      <th>이름</th>\n",
       "      <th>나이</th>\n",
       "      <th>지역</th>\n",
       "      <th>e-mail</th>\n",
       "      <th>결혼유무</th>\n",
       "    </tr>\n",
       "  </thead>\n",
       "  <tbody>\n",
       "    <tr>\n",
       "      <th>0</th>\n",
       "      <td>이빵빵</td>\n",
       "      <td>28</td>\n",
       "      <td>서울</td>\n",
       "      <td>bbang2@naver.com</td>\n",
       "      <td>False</td>\n",
       "    </tr>\n",
       "    <tr>\n",
       "      <th>3</th>\n",
       "      <td>신형만</td>\n",
       "      <td>60</td>\n",
       "      <td>일본</td>\n",
       "      <td>g9@naver.com</td>\n",
       "      <td>True</td>\n",
       "    </tr>\n",
       "  </tbody>\n",
       "</table>\n",
       "</div>"
      ],
      "text/plain": [
       "    이름  나이  지역            e-mail   결혼유무\n",
       "0  이빵빵  28  서울  bbang2@naver.com  False\n",
       "3  신형만  60  일본      g9@naver.com   True"
      ]
     },
     "execution_count": 27,
     "metadata": {},
     "output_type": "execute_result"
    }
   ],
   "source": [
    "## 데이터프레임 조회(행)\n",
    "df.loc[[0,3]]"
   ]
  },
  {
   "cell_type": "code",
   "execution_count": 30,
   "metadata": {},
   "outputs": [
    {
     "data": {
      "text/html": [
       "<div>\n",
       "<style scoped>\n",
       "    .dataframe tbody tr th:only-of-type {\n",
       "        vertical-align: middle;\n",
       "    }\n",
       "\n",
       "    .dataframe tbody tr th {\n",
       "        vertical-align: top;\n",
       "    }\n",
       "\n",
       "    .dataframe thead th {\n",
       "        text-align: right;\n",
       "    }\n",
       "</style>\n",
       "<table border=\"1\" class=\"dataframe\">\n",
       "  <thead>\n",
       "    <tr style=\"text-align: right;\">\n",
       "      <th></th>\n",
       "      <th>이름</th>\n",
       "      <th>나이</th>\n",
       "      <th>지역</th>\n",
       "      <th>e-mail</th>\n",
       "      <th>결혼유무</th>\n",
       "      <th>전화번호</th>\n",
       "    </tr>\n",
       "  </thead>\n",
       "  <tbody>\n",
       "    <tr>\n",
       "      <th>0</th>\n",
       "      <td>이빵빵</td>\n",
       "      <td>28</td>\n",
       "      <td>서울</td>\n",
       "      <td>bbang2@naver.com</td>\n",
       "      <td>False</td>\n",
       "      <td>010</td>\n",
       "    </tr>\n",
       "    <tr>\n",
       "      <th>1</th>\n",
       "      <td>김옥지</td>\n",
       "      <td>28</td>\n",
       "      <td>서울</td>\n",
       "      <td>okz@gmail.com</td>\n",
       "      <td>False</td>\n",
       "      <td>011</td>\n",
       "    </tr>\n",
       "    <tr>\n",
       "      <th>2</th>\n",
       "      <td>끼꼬</td>\n",
       "      <td>10</td>\n",
       "      <td>서울</td>\n",
       "      <td>kk@naver.com</td>\n",
       "      <td>False</td>\n",
       "      <td>070</td>\n",
       "    </tr>\n",
       "    <tr>\n",
       "      <th>3</th>\n",
       "      <td>신형만</td>\n",
       "      <td>60</td>\n",
       "      <td>일본</td>\n",
       "      <td>g9@naver.com</td>\n",
       "      <td>True</td>\n",
       "      <td>016</td>\n",
       "    </tr>\n",
       "  </tbody>\n",
       "</table>\n",
       "</div>"
      ],
      "text/plain": [
       "    이름  나이  지역            e-mail   결혼유무 전화번호\n",
       "0  이빵빵  28  서울  bbang2@naver.com  False  010\n",
       "1  김옥지  28  서울     okz@gmail.com  False  011\n",
       "2   끼꼬  10  서울      kk@naver.com  False  070\n",
       "3  신형만  60  일본      g9@naver.com   True  016"
      ]
     },
     "execution_count": 30,
     "metadata": {},
     "output_type": "execute_result"
    }
   ],
   "source": [
    "# 현재 데이터 프레임 확인\n",
    "df"
   ]
  },
  {
   "cell_type": "code",
   "execution_count": 32,
   "metadata": {},
   "outputs": [],
   "source": [
    "## 새 컬럼 추가\n",
    "df['전화번호'] = ['010', '011', '016', '070']"
   ]
  },
  {
   "cell_type": "code",
   "execution_count": 33,
   "metadata": {},
   "outputs": [
    {
     "data": {
      "text/html": [
       "<div>\n",
       "<style scoped>\n",
       "    .dataframe tbody tr th:only-of-type {\n",
       "        vertical-align: middle;\n",
       "    }\n",
       "\n",
       "    .dataframe tbody tr th {\n",
       "        vertical-align: top;\n",
       "    }\n",
       "\n",
       "    .dataframe thead th {\n",
       "        text-align: right;\n",
       "    }\n",
       "</style>\n",
       "<table border=\"1\" class=\"dataframe\">\n",
       "  <thead>\n",
       "    <tr style=\"text-align: right;\">\n",
       "      <th></th>\n",
       "      <th>이름</th>\n",
       "      <th>나이</th>\n",
       "      <th>지역</th>\n",
       "      <th>e-mail</th>\n",
       "      <th>결혼유무</th>\n",
       "      <th>전화번호</th>\n",
       "    </tr>\n",
       "  </thead>\n",
       "  <tbody>\n",
       "    <tr>\n",
       "      <th>0</th>\n",
       "      <td>이빵빵</td>\n",
       "      <td>28</td>\n",
       "      <td>서울</td>\n",
       "      <td>bbang2@naver.com</td>\n",
       "      <td>False</td>\n",
       "      <td>010</td>\n",
       "    </tr>\n",
       "    <tr>\n",
       "      <th>1</th>\n",
       "      <td>김옥지</td>\n",
       "      <td>28</td>\n",
       "      <td>서울</td>\n",
       "      <td>okz@gmail.com</td>\n",
       "      <td>False</td>\n",
       "      <td>011</td>\n",
       "    </tr>\n",
       "    <tr>\n",
       "      <th>2</th>\n",
       "      <td>끼꼬</td>\n",
       "      <td>10</td>\n",
       "      <td>서울</td>\n",
       "      <td>kk@naver.com</td>\n",
       "      <td>False</td>\n",
       "      <td>016</td>\n",
       "    </tr>\n",
       "    <tr>\n",
       "      <th>3</th>\n",
       "      <td>신형만</td>\n",
       "      <td>60</td>\n",
       "      <td>일본</td>\n",
       "      <td>g9@naver.com</td>\n",
       "      <td>True</td>\n",
       "      <td>070</td>\n",
       "    </tr>\n",
       "  </tbody>\n",
       "</table>\n",
       "</div>"
      ],
      "text/plain": [
       "    이름  나이  지역            e-mail   결혼유무 전화번호\n",
       "0  이빵빵  28  서울  bbang2@naver.com  False  010\n",
       "1  김옥지  28  서울     okz@gmail.com  False  011\n",
       "2   끼꼬  10  서울      kk@naver.com  False  016\n",
       "3  신형만  60  일본      g9@naver.com   True  070"
      ]
     },
     "execution_count": 33,
     "metadata": {},
     "output_type": "execute_result"
    }
   ],
   "source": [
    "# 추가된 데이터 프레임 확인\n",
    "df"
   ]
  },
  {
   "cell_type": "code",
   "execution_count": 40,
   "metadata": {},
   "outputs": [
    {
     "data": {
      "text/html": [
       "<div>\n",
       "<style scoped>\n",
       "    .dataframe tbody tr th:only-of-type {\n",
       "        vertical-align: middle;\n",
       "    }\n",
       "\n",
       "    .dataframe tbody tr th {\n",
       "        vertical-align: top;\n",
       "    }\n",
       "\n",
       "    .dataframe thead th {\n",
       "        text-align: right;\n",
       "    }\n",
       "</style>\n",
       "<table border=\"1\" class=\"dataframe\">\n",
       "  <thead>\n",
       "    <tr style=\"text-align: right;\">\n",
       "      <th></th>\n",
       "      <th>이름</th>\n",
       "      <th>나이</th>\n",
       "      <th>지역</th>\n",
       "      <th>e-mail</th>\n",
       "      <th>전화번호</th>\n",
       "    </tr>\n",
       "  </thead>\n",
       "  <tbody>\n",
       "    <tr>\n",
       "      <th>0</th>\n",
       "      <td>이빵빵</td>\n",
       "      <td>28</td>\n",
       "      <td>서울</td>\n",
       "      <td>bbang2@naver.com</td>\n",
       "      <td>010</td>\n",
       "    </tr>\n",
       "    <tr>\n",
       "      <th>1</th>\n",
       "      <td>김옥지</td>\n",
       "      <td>28</td>\n",
       "      <td>서울</td>\n",
       "      <td>okz@gmail.com</td>\n",
       "      <td>011</td>\n",
       "    </tr>\n",
       "    <tr>\n",
       "      <th>2</th>\n",
       "      <td>끼꼬</td>\n",
       "      <td>10</td>\n",
       "      <td>서울</td>\n",
       "      <td>kk@naver.com</td>\n",
       "      <td>016</td>\n",
       "    </tr>\n",
       "    <tr>\n",
       "      <th>3</th>\n",
       "      <td>신형만</td>\n",
       "      <td>60</td>\n",
       "      <td>일본</td>\n",
       "      <td>g9@naver.com</td>\n",
       "      <td>070</td>\n",
       "    </tr>\n",
       "  </tbody>\n",
       "</table>\n",
       "</div>"
      ],
      "text/plain": [
       "    이름  나이  지역            e-mail 전화번호\n",
       "0  이빵빵  28  서울  bbang2@naver.com  010\n",
       "1  김옥지  28  서울     okz@gmail.com  011\n",
       "2   끼꼬  10  서울      kk@naver.com  016\n",
       "3  신형만  60  일본      g9@naver.com  070"
      ]
     },
     "execution_count": 40,
     "metadata": {},
     "output_type": "execute_result"
    }
   ],
   "source": [
    "## 열 삭제 (결혼유무 열 삭제) axis = 0 : 행 / axis = 1 : 열\n",
    "df.drop('결혼유무', axis=1) "
   ]
  },
  {
   "cell_type": "code",
   "execution_count": null,
   "metadata": {},
   "outputs": [],
   "source": [
    "## drop()은 삭제된 모습을 출력해줌, 완전 삭제는 inplace 옵션 사용\n",
    "# inplace를 화면에 출력안됨\n",
    "df.drop('결혼유무', axis=1, inplace=True) # 열로 삭제하려면 axis=1만 사용"
   ]
  },
  {
   "cell_type": "code",
   "execution_count": 44,
   "metadata": {},
   "outputs": [
    {
     "data": {
      "text/html": [
       "<div>\n",
       "<style scoped>\n",
       "    .dataframe tbody tr th:only-of-type {\n",
       "        vertical-align: middle;\n",
       "    }\n",
       "\n",
       "    .dataframe tbody tr th {\n",
       "        vertical-align: top;\n",
       "    }\n",
       "\n",
       "    .dataframe thead th {\n",
       "        text-align: right;\n",
       "    }\n",
       "</style>\n",
       "<table border=\"1\" class=\"dataframe\">\n",
       "  <thead>\n",
       "    <tr style=\"text-align: right;\">\n",
       "      <th></th>\n",
       "      <th>이름</th>\n",
       "      <th>나이</th>\n",
       "      <th>지역</th>\n",
       "      <th>e-mail</th>\n",
       "      <th>전화번호</th>\n",
       "    </tr>\n",
       "  </thead>\n",
       "  <tbody>\n",
       "    <tr>\n",
       "      <th>0</th>\n",
       "      <td>이빵빵</td>\n",
       "      <td>28</td>\n",
       "      <td>서울</td>\n",
       "      <td>bbang2@naver.com</td>\n",
       "      <td>010</td>\n",
       "    </tr>\n",
       "    <tr>\n",
       "      <th>1</th>\n",
       "      <td>김옥지</td>\n",
       "      <td>28</td>\n",
       "      <td>서울</td>\n",
       "      <td>okz@gmail.com</td>\n",
       "      <td>011</td>\n",
       "    </tr>\n",
       "    <tr>\n",
       "      <th>2</th>\n",
       "      <td>끼꼬</td>\n",
       "      <td>10</td>\n",
       "      <td>서울</td>\n",
       "      <td>kk@naver.com</td>\n",
       "      <td>016</td>\n",
       "    </tr>\n",
       "    <tr>\n",
       "      <th>3</th>\n",
       "      <td>신형만</td>\n",
       "      <td>60</td>\n",
       "      <td>일본</td>\n",
       "      <td>g9@naver.com</td>\n",
       "      <td>070</td>\n",
       "    </tr>\n",
       "  </tbody>\n",
       "</table>\n",
       "</div>"
      ],
      "text/plain": [
       "    이름  나이  지역            e-mail 전화번호\n",
       "0  이빵빵  28  서울  bbang2@naver.com  010\n",
       "1  김옥지  28  서울     okz@gmail.com  011\n",
       "2   끼꼬  10  서울      kk@naver.com  016\n",
       "3  신형만  60  일본      g9@naver.com  070"
      ]
     },
     "execution_count": 44,
     "metadata": {},
     "output_type": "execute_result"
    }
   ],
   "source": [
    "# 삭제된 것을 확인\n",
    "df"
   ]
  },
  {
   "cell_type": "code",
   "execution_count": 47,
   "metadata": {},
   "outputs": [],
   "source": [
    "## 행 추가\n",
    "df.loc[4] = ['손흥민', 32, '런던', 'son@naver.com', '010']"
   ]
  },
  {
   "cell_type": "code",
   "execution_count": 48,
   "metadata": {},
   "outputs": [
    {
     "data": {
      "text/html": [
       "<div>\n",
       "<style scoped>\n",
       "    .dataframe tbody tr th:only-of-type {\n",
       "        vertical-align: middle;\n",
       "    }\n",
       "\n",
       "    .dataframe tbody tr th {\n",
       "        vertical-align: top;\n",
       "    }\n",
       "\n",
       "    .dataframe thead th {\n",
       "        text-align: right;\n",
       "    }\n",
       "</style>\n",
       "<table border=\"1\" class=\"dataframe\">\n",
       "  <thead>\n",
       "    <tr style=\"text-align: right;\">\n",
       "      <th></th>\n",
       "      <th>이름</th>\n",
       "      <th>나이</th>\n",
       "      <th>지역</th>\n",
       "      <th>e-mail</th>\n",
       "      <th>전화번호</th>\n",
       "    </tr>\n",
       "  </thead>\n",
       "  <tbody>\n",
       "    <tr>\n",
       "      <th>0</th>\n",
       "      <td>이빵빵</td>\n",
       "      <td>28</td>\n",
       "      <td>서울</td>\n",
       "      <td>bbang2@naver.com</td>\n",
       "      <td>010</td>\n",
       "    </tr>\n",
       "    <tr>\n",
       "      <th>1</th>\n",
       "      <td>김옥지</td>\n",
       "      <td>28</td>\n",
       "      <td>서울</td>\n",
       "      <td>okz@gmail.com</td>\n",
       "      <td>011</td>\n",
       "    </tr>\n",
       "    <tr>\n",
       "      <th>2</th>\n",
       "      <td>끼꼬</td>\n",
       "      <td>10</td>\n",
       "      <td>서울</td>\n",
       "      <td>kk@naver.com</td>\n",
       "      <td>016</td>\n",
       "    </tr>\n",
       "    <tr>\n",
       "      <th>3</th>\n",
       "      <td>신형만</td>\n",
       "      <td>60</td>\n",
       "      <td>일본</td>\n",
       "      <td>g9@naver.com</td>\n",
       "      <td>070</td>\n",
       "    </tr>\n",
       "    <tr>\n",
       "      <th>4</th>\n",
       "      <td>손흥민</td>\n",
       "      <td>32</td>\n",
       "      <td>런던</td>\n",
       "      <td>son@naver.com</td>\n",
       "      <td>010</td>\n",
       "    </tr>\n",
       "  </tbody>\n",
       "</table>\n",
       "</div>"
      ],
      "text/plain": [
       "    이름  나이  지역            e-mail 전화번호\n",
       "0  이빵빵  28  서울  bbang2@naver.com  010\n",
       "1  김옥지  28  서울     okz@gmail.com  011\n",
       "2   끼꼬  10  서울      kk@naver.com  016\n",
       "3  신형만  60  일본      g9@naver.com  070\n",
       "4  손흥민  32  런던     son@naver.com  010"
      ]
     },
     "execution_count": 48,
     "metadata": {},
     "output_type": "execute_result"
    }
   ],
   "source": [
    "df"
   ]
  },
  {
   "cell_type": "code",
   "execution_count": 52,
   "metadata": {},
   "outputs": [
    {
     "data": {
      "text/html": [
       "<div>\n",
       "<style scoped>\n",
       "    .dataframe tbody tr th:only-of-type {\n",
       "        vertical-align: middle;\n",
       "    }\n",
       "\n",
       "    .dataframe tbody tr th {\n",
       "        vertical-align: top;\n",
       "    }\n",
       "\n",
       "    .dataframe thead th {\n",
       "        text-align: right;\n",
       "    }\n",
       "</style>\n",
       "<table border=\"1\" class=\"dataframe\">\n",
       "  <thead>\n",
       "    <tr style=\"text-align: right;\">\n",
       "      <th></th>\n",
       "      <th>이름</th>\n",
       "      <th>나이</th>\n",
       "      <th>지역</th>\n",
       "      <th>e-mail</th>\n",
       "      <th>전화번호</th>\n",
       "    </tr>\n",
       "  </thead>\n",
       "  <tbody>\n",
       "    <tr>\n",
       "      <th>0</th>\n",
       "      <td>이빵빵</td>\n",
       "      <td>28</td>\n",
       "      <td>서울</td>\n",
       "      <td>bbang2@naver.com</td>\n",
       "      <td>010</td>\n",
       "    </tr>\n",
       "    <tr>\n",
       "      <th>1</th>\n",
       "      <td>김옥지</td>\n",
       "      <td>28</td>\n",
       "      <td>서울</td>\n",
       "      <td>okz@gmail.com</td>\n",
       "      <td>011</td>\n",
       "    </tr>\n",
       "    <tr>\n",
       "      <th>2</th>\n",
       "      <td>끼꼬</td>\n",
       "      <td>10</td>\n",
       "      <td>서울</td>\n",
       "      <td>kk@naver.com</td>\n",
       "      <td>016</td>\n",
       "    </tr>\n",
       "    <tr>\n",
       "      <th>4</th>\n",
       "      <td>손흥민</td>\n",
       "      <td>32</td>\n",
       "      <td>런던</td>\n",
       "      <td>son@naver.com</td>\n",
       "      <td>010</td>\n",
       "    </tr>\n",
       "  </tbody>\n",
       "</table>\n",
       "</div>"
      ],
      "text/plain": [
       "    이름  나이  지역            e-mail 전화번호\n",
       "0  이빵빵  28  서울  bbang2@naver.com  010\n",
       "1  김옥지  28  서울     okz@gmail.com  011\n",
       "2   끼꼬  10  서울      kk@naver.com  016\n",
       "4  손흥민  32  런던     son@naver.com  010"
      ]
     },
     "execution_count": 52,
     "metadata": {},
     "output_type": "execute_result"
    }
   ],
   "source": [
    "## 행 삭제(행 번호) / 완전 삭제 시 inplace 사용 혹은 새로운 변수에 재할당\n",
    "df.drop(3)\n",
    "df2 = df.drop(3)\n",
    "df2"
   ]
  },
  {
   "cell_type": "code",
   "execution_count": 54,
   "metadata": {},
   "outputs": [],
   "source": [
    "## 행 삭제 inplace, 행 삭제는 axis=0만 사용 혹은 생략\n",
    "df.drop(2, axis=0, inplace=True)"
   ]
  },
  {
   "cell_type": "code",
   "execution_count": 64,
   "metadata": {},
   "outputs": [
    {
     "data": {
      "text/html": [
       "<div>\n",
       "<style scoped>\n",
       "    .dataframe tbody tr th:only-of-type {\n",
       "        vertical-align: middle;\n",
       "    }\n",
       "\n",
       "    .dataframe tbody tr th {\n",
       "        vertical-align: top;\n",
       "    }\n",
       "\n",
       "    .dataframe thead th {\n",
       "        text-align: right;\n",
       "    }\n",
       "</style>\n",
       "<table border=\"1\" class=\"dataframe\">\n",
       "  <thead>\n",
       "    <tr style=\"text-align: right;\">\n",
       "      <th></th>\n",
       "      <th>이름</th>\n",
       "      <th>나이</th>\n",
       "      <th>지역</th>\n",
       "      <th>e-mail</th>\n",
       "      <th>휴대폰</th>\n",
       "    </tr>\n",
       "  </thead>\n",
       "  <tbody>\n",
       "    <tr>\n",
       "      <th>0</th>\n",
       "      <td>이빵빵</td>\n",
       "      <td>28</td>\n",
       "      <td>서울</td>\n",
       "      <td>bbang2@naver.com</td>\n",
       "      <td>010</td>\n",
       "    </tr>\n",
       "    <tr>\n",
       "      <th>1</th>\n",
       "      <td>김옥지</td>\n",
       "      <td>28</td>\n",
       "      <td>서울</td>\n",
       "      <td>okz@gmail.com</td>\n",
       "      <td>011</td>\n",
       "    </tr>\n",
       "    <tr>\n",
       "      <th>3</th>\n",
       "      <td>신형만</td>\n",
       "      <td>60</td>\n",
       "      <td>일본</td>\n",
       "      <td>g9@naver.com</td>\n",
       "      <td>070</td>\n",
       "    </tr>\n",
       "    <tr>\n",
       "      <th>4</th>\n",
       "      <td>손흥민</td>\n",
       "      <td>32</td>\n",
       "      <td>런던</td>\n",
       "      <td>son@naver.com</td>\n",
       "      <td>010</td>\n",
       "    </tr>\n",
       "  </tbody>\n",
       "</table>\n",
       "</div>"
      ],
      "text/plain": [
       "    이름  나이  지역            e-mail  휴대폰\n",
       "0  이빵빵  28  서울  bbang2@naver.com  010\n",
       "1  김옥지  28  서울     okz@gmail.com  011\n",
       "3  신형만  60  일본      g9@naver.com  070\n",
       "4  손흥민  32  런던     son@naver.com  010"
      ]
     },
     "execution_count": 64,
     "metadata": {},
     "output_type": "execute_result"
    }
   ],
   "source": [
    "df"
   ]
  },
  {
   "cell_type": "code",
   "execution_count": 62,
   "metadata": {},
   "outputs": [],
   "source": [
    "## 열 이름 변경\n",
    "df.rename(columns={'전화번호' : '휴대폰'}, inplace=True)"
   ]
  },
  {
   "cell_type": "code",
   "execution_count": 63,
   "metadata": {},
   "outputs": [
    {
     "data": {
      "text/html": [
       "<div>\n",
       "<style scoped>\n",
       "    .dataframe tbody tr th:only-of-type {\n",
       "        vertical-align: middle;\n",
       "    }\n",
       "\n",
       "    .dataframe tbody tr th {\n",
       "        vertical-align: top;\n",
       "    }\n",
       "\n",
       "    .dataframe thead th {\n",
       "        text-align: right;\n",
       "    }\n",
       "</style>\n",
       "<table border=\"1\" class=\"dataframe\">\n",
       "  <thead>\n",
       "    <tr style=\"text-align: right;\">\n",
       "      <th></th>\n",
       "      <th>이름</th>\n",
       "      <th>나이</th>\n",
       "      <th>지역</th>\n",
       "      <th>e-mail</th>\n",
       "      <th>휴대폰</th>\n",
       "    </tr>\n",
       "  </thead>\n",
       "  <tbody>\n",
       "    <tr>\n",
       "      <th>0</th>\n",
       "      <td>이빵빵</td>\n",
       "      <td>28</td>\n",
       "      <td>서울</td>\n",
       "      <td>bbang2@naver.com</td>\n",
       "      <td>010</td>\n",
       "    </tr>\n",
       "    <tr>\n",
       "      <th>1</th>\n",
       "      <td>김옥지</td>\n",
       "      <td>28</td>\n",
       "      <td>서울</td>\n",
       "      <td>okz@gmail.com</td>\n",
       "      <td>011</td>\n",
       "    </tr>\n",
       "    <tr>\n",
       "      <th>3</th>\n",
       "      <td>신형만</td>\n",
       "      <td>60</td>\n",
       "      <td>일본</td>\n",
       "      <td>g9@naver.com</td>\n",
       "      <td>070</td>\n",
       "    </tr>\n",
       "    <tr>\n",
       "      <th>4</th>\n",
       "      <td>손흥민</td>\n",
       "      <td>32</td>\n",
       "      <td>런던</td>\n",
       "      <td>son@naver.com</td>\n",
       "      <td>010</td>\n",
       "    </tr>\n",
       "  </tbody>\n",
       "</table>\n",
       "</div>"
      ],
      "text/plain": [
       "    이름  나이  지역            e-mail  휴대폰\n",
       "0  이빵빵  28  서울  bbang2@naver.com  010\n",
       "1  김옥지  28  서울     okz@gmail.com  011\n",
       "3  신형만  60  일본      g9@naver.com  070\n",
       "4  손흥민  32  런던     son@naver.com  010"
      ]
     },
     "execution_count": 63,
     "metadata": {},
     "output_type": "execute_result"
    }
   ],
   "source": []
  },
  {
   "cell_type": "markdown",
   "metadata": {},
   "source": [
    "- 데이터 프레임은 파이썬의 2차원 리스트와 동일하지만, 보다 사용하기 쉽게 만들어진 클래스이다."
   ]
  },
  {
   "cell_type": "markdown",
   "metadata": {},
   "source": [
    "#### 시리즈 객체\n",
    "\n",
    "- 파이썬에서 1차원 리스트(배열)\n",
    "- 시리즈를 그루핑 한 것이 데이터프레임\n",
    "- 가장 최소단위"
   ]
  },
  {
   "cell_type": "code",
   "execution_count": 65,
   "metadata": {},
   "outputs": [
    {
     "data": {
      "text/plain": [
       "0    28\n",
       "1    28\n",
       "2    60\n",
       "3    32\n",
       "dtype: int64"
      ]
     },
     "execution_count": 65,
     "metadata": {},
     "output_type": "execute_result"
    }
   ],
   "source": [
    "data = [28, 28, 60, 32]\n",
    "srs = pd.Series(data=data)\n",
    "srs"
   ]
  },
  {
   "cell_type": "code",
   "execution_count": 66,
   "metadata": {},
   "outputs": [
    {
     "data": {
      "text/plain": [
       "pandas.core.series.Series"
      ]
     },
     "execution_count": 66,
     "metadata": {},
     "output_type": "execute_result"
    }
   ],
   "source": [
    "## 데이터프레임의 한 열을 가지고 온 자료구조와 시리즈는 동일하다.\n",
    "type(df['나이'])"
   ]
  },
  {
   "cell_type": "code",
   "execution_count": 67,
   "metadata": {},
   "outputs": [
    {
     "data": {
      "text/plain": [
       "pandas.core.series.Series"
      ]
     },
     "execution_count": 67,
     "metadata": {},
     "output_type": "execute_result"
    }
   ],
   "source": [
    "type(srs)"
   ]
  },
  {
   "cell_type": "code",
   "execution_count": 68,
   "metadata": {},
   "outputs": [
    {
     "data": {
      "text/plain": [
       "이빵빵    28\n",
       "김옥지    28\n",
       "신형만    60\n",
       "손흥민    32\n",
       "dtype: int64"
      ]
     },
     "execution_count": 68,
     "metadata": {},
     "output_type": "execute_result"
    }
   ],
   "source": [
    "srs = pd.Series(data=data, index=['이빵빵', '김옥지', '신형만', '손흥민'])\n",
    "srs"
   ]
  },
  {
   "cell_type": "code",
   "execution_count": 70,
   "metadata": {},
   "outputs": [
    {
     "data": {
      "text/plain": [
       "28"
      ]
     },
     "execution_count": 70,
     "metadata": {},
     "output_type": "execute_result"
    }
   ],
   "source": [
    "## 조회\n",
    "srs['김옥지']"
   ]
  },
  {
   "cell_type": "code",
   "execution_count": 72,
   "metadata": {},
   "outputs": [
    {
     "data": {
      "text/plain": [
       "이빵빵    30\n",
       "김옥지    28\n",
       "신형만    60\n",
       "손흥민    32\n",
       "dtype: int64"
      ]
     },
     "execution_count": 72,
     "metadata": {},
     "output_type": "execute_result"
    }
   ],
   "source": [
    "srs['이빵빵'] = 30\n",
    "srs"
   ]
  },
  {
   "cell_type": "code",
   "execution_count": null,
   "metadata": {},
   "outputs": [],
   "source": [
    "## 데이터프레임에서 한 행을 가져와도 시리즈.\n",
    "df.loc[1]"
   ]
  },
  {
   "cell_type": "markdown",
   "metadata": {},
   "source": [
    "### 데이터 프레임 사용하기\n",
    "\n",
    "- CSV, 엑셀파일 로드\n",
    "- VS Code 플러그인, GrapeCity의 Excel Viewer 설치 필요"
   ]
  },
  {
   "cell_type": "code",
   "execution_count": 75,
   "metadata": {},
   "outputs": [
    {
     "data": {
      "text/html": [
       "<div>\n",
       "<style scoped>\n",
       "    .dataframe tbody tr th:only-of-type {\n",
       "        vertical-align: middle;\n",
       "    }\n",
       "\n",
       "    .dataframe tbody tr th {\n",
       "        vertical-align: top;\n",
       "    }\n",
       "\n",
       "    .dataframe thead th {\n",
       "        text-align: right;\n",
       "    }\n",
       "</style>\n",
       "<table border=\"1\" class=\"dataframe\">\n",
       "  <thead>\n",
       "    <tr style=\"text-align: right;\">\n",
       "      <th></th>\n",
       "      <th>2019년 11월 입국객 수</th>\n",
       "      <th>Unnamed: 1</th>\n",
       "      <th>Unnamed: 2</th>\n",
       "      <th>Unnamed: 3</th>\n",
       "    </tr>\n",
       "  </thead>\n",
       "  <tbody>\n",
       "    <tr>\n",
       "      <th>0</th>\n",
       "      <td>국적코드</td>\n",
       "      <td>성별</td>\n",
       "      <td>입국객수</td>\n",
       "      <td>전년동기</td>\n",
       "    </tr>\n",
       "    <tr>\n",
       "      <th>1</th>\n",
       "      <td>A01</td>\n",
       "      <td>남성</td>\n",
       "      <td>106320</td>\n",
       "      <td>85815</td>\n",
       "    </tr>\n",
       "    <tr>\n",
       "      <th>2</th>\n",
       "      <td>A01</td>\n",
       "      <td>여성</td>\n",
       "      <td>191436</td>\n",
       "      <td>125241</td>\n",
       "    </tr>\n",
       "    <tr>\n",
       "      <th>3</th>\n",
       "      <td>A31</td>\n",
       "      <td>남성</td>\n",
       "      <td>319</td>\n",
       "      <td>299</td>\n",
       "    </tr>\n",
       "    <tr>\n",
       "      <th>4</th>\n",
       "      <td>A31</td>\n",
       "      <td>여성</td>\n",
       "      <td>42</td>\n",
       "      <td>54</td>\n",
       "    </tr>\n",
       "    <tr>\n",
       "      <th>5</th>\n",
       "      <td>A18</td>\n",
       "      <td>남성</td>\n",
       "      <td>158912</td>\n",
       "      <td>124486</td>\n",
       "    </tr>\n",
       "    <tr>\n",
       "      <th>6</th>\n",
       "      <td>A18</td>\n",
       "      <td>여성</td>\n",
       "      <td>232943</td>\n",
       "      <td>163466</td>\n",
       "    </tr>\n",
       "    <tr>\n",
       "      <th>7</th>\n",
       "      <td>총 합계</td>\n",
       "      <td>689972</td>\n",
       "      <td>NaN</td>\n",
       "      <td>NaN</td>\n",
       "    </tr>\n",
       "    <tr>\n",
       "      <th>8</th>\n",
       "      <td>전년동기</td>\n",
       "      <td>499361</td>\n",
       "      <td>NaN</td>\n",
       "      <td>NaN</td>\n",
       "    </tr>\n",
       "  </tbody>\n",
       "</table>\n",
       "</div>"
      ],
      "text/plain": [
       "  2019년 11월 입국객 수 Unnamed: 1 Unnamed: 2 Unnamed: 3\n",
       "0            국적코드         성별       입국객수       전년동기\n",
       "1             A01         남성     106320      85815\n",
       "2             A01         여성     191436     125241\n",
       "3             A31         남성        319        299\n",
       "4             A31         여성         42         54\n",
       "5             A18         남성     158912     124486\n",
       "6             A18         여성     232943     163466\n",
       "7           총 합계      689972        NaN        NaN\n",
       "8            전년동기     499361        NaN        NaN"
      ]
     },
     "execution_count": 75,
     "metadata": {},
     "output_type": "execute_result"
    }
   ],
   "source": [
    "df_csv = pd.read_csv('./data/sample_1.csv', encoding='utf-8')\n",
    "df_csv"
   ]
  }
 ],
 "metadata": {
  "kernelspec": {
   "display_name": "Python 3",
   "language": "python",
   "name": "python3"
  },
  "language_info": {
   "codemirror_mode": {
    "name": "ipython",
    "version": 3
   },
   "file_extension": ".py",
   "mimetype": "text/x-python",
   "name": "python",
   "nbconvert_exporter": "python",
   "pygments_lexer": "ipython3",
   "version": "3.12.2"
  }
 },
 "nbformat": 4,
 "nbformat_minor": 2
}
